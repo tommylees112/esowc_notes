{
 "cells": [
  {
   "cell_type": "code",
   "execution_count": 1,
   "metadata": {},
   "outputs": [],
   "source": [
    "import geopandas as gpd\n",
    "from pathlib import Path\n",
    "import xarray as xr\n",
    "import numpy as np\n",
    "import pandas as pd\n",
    "\n",
    "import cdsapi\n",
    "import matplotlib.pyplot as plt\n",
    "import cartopy.crs as crs\n",
    "import xarray as xr\n",
    "import seaborn as sns\n",
    "\n",
    "import os\n",
    "import subprocess\n",
    "from functools import partial\n",
    "from collections import namedtuple\n",
    "from pprint import pprint\n",
    "\n",
    "%matplotlib inline\n",
    "plt.rcParams['figure.figsize'] = 12, 6"
   ]
  },
  {
   "cell_type": "code",
   "execution_count": 2,
   "metadata": {},
   "outputs": [
    {
     "name": "stdout",
     "output_type": "stream",
     "text": [
      "Current Directory:  /Users/tommylees/github/ESoWC_dummy\n"
     ]
    }
   ],
   "source": [
    "# Set working directory as project root\n",
    "if os.getcwd().split('/')[-1] != \"ESoWC_dummy\":\n",
    "    os.chdir('..')\n",
    "    \n",
    "assert os.getcwd().split('/')[-1] == \"ESoWC_dummy\", f\"Working directory should be the root (), currently: {os.getcwd()}\"\n",
    "print(\"Current Directory: \",os.getcwd())"
   ]
  },
  {
   "cell_type": "code",
   "execution_count": 3,
   "metadata": {},
   "outputs": [
    {
     "name": "stdout",
     "output_type": "stream",
     "text": [
      "/Volumes/Lees_Extend/data/ecmwf_sowc\n",
      "['chirps_kenya.nc',\n",
      " 'chirps_kenya2.nc',\n",
      " 'countries_shp',\n",
      " 'countries_shp.zip',\n",
      " 'era5_test.grib',\n",
      " 'ESACCI-LC-L4-LCCS-Map-300m-P1Y-2015-v2.0.7b.nc',\n",
      " 'ESACCI-LC-L4-LCCS-Map-300m-P1Y-2015-v2.0.7b.nc.zip',\n",
      " 'ESACCI-LC-Legend.csv',\n",
      " 'GRUN_v1_GSWP3_WGS84_05_1902_2014.nc',\n",
      " 'kenya_precip_JanJune.grib',\n",
      " 'kenya_rainfall2.nc',\n",
      " 'kenya_rainfall_.nc',\n",
      " 'orography.grib',\n",
      " 'pressure.grib']\n"
     ]
    }
   ],
   "source": [
    "# Set data_dir to external if on tommy's laptop (no space!)\n",
    "if os.getcwd().split('/')[2] == 'tommylees':\n",
    "    data_dir = Path(\"/Volumes/Lees_Extend/data/ecmwf_sowc/\")\n",
    "else:\n",
    "    data_dir = Path('./data')\n",
    "    \n",
    "print(data_dir)\n",
    "pprint([f.as_posix().split('/')[-1] for f in data_dir.glob('*')])"
   ]
  },
  {
   "cell_type": "markdown",
   "metadata": {},
   "source": [
    "# Working with the spi functions"
   ]
  },
  {
   "cell_type": "code",
   "execution_count": 7,
   "metadata": {},
   "outputs": [],
   "source": [
    "from climate_indices.__main__ import _compute_write_index"
   ]
  },
  {
   "cell_type": "code",
   "execution_count": null,
   "metadata": {},
   "outputs": [],
   "source": [
    "netcdf_precip = _prepare_file(arguments.netcdf_precip,\n",
    "                              arguments.var_name_precip)\n",
    "\n",
    "# keyword arguments used for the SPI function\n",
    "kwrgs = {\"index\": \"spi\",\n",
    "         \"netcdf_precip\": netcdf_precip,\n",
    "         \"var_name_precip\": arguments.var_name_precip,\n",
    "         \"input_type\": input_type,\n",
    "         \"scale\": scale,\n",
    "         \"distribution\": dist,\n",
    "         \"periodicity\": arguments.periodicity,\n",
    "         \"calibration_start_year\": arguments.calibration_start_year,\n",
    "         \"calibration_end_year\": arguments.calibration_end_year,\n",
    "         \"output_file_base\": arguments.output_file_base}\n",
    "\n",
    "_compute_write_index(kwrgs)\n",
    "\n",
    "def _spi(precips, parameters):\n",
    "    return indices.spi(values=precips,\n",
    "                       scale=parameters[\"scale\"],\n",
    "                       distribution=parameters[\"distribution\"],\n",
    "                       data_start_year=parameters[\"data_start_year\"],\n",
    "                       calibration_year_initial=parameters[\"calibration_year_initial\"],\n",
    "                       calibration_year_final=parameters[\"calibration_year_final\"],\n",
    "                       periodicity=parameters[\"periodicity\"])\n"
   ]
  },
  {
   "cell_type": "code",
   "execution_count": 10,
   "metadata": {},
   "outputs": [],
   "source": [
    "args = {\"index\": \"spi \",\n",
    "\"periodicity\": \"monthly \",\n",
    "\"netcdf_precip\": \"chirps_kenya2.nc\",\n",
    "\"var_name_precip\": \"precip\",\n",
    "\"output_file_base\": \"./kenya_monthly_spi\",\n",
    "\"scales\": [1,3,6],\n",
    "\"calibration_start_year\": 1980,\n",
    "\"calibration_end_year\": 2017,\n",
    "\"multiprocessing\": \"all\",\n",
    "}"
   ]
  },
  {
   "cell_type": "code",
   "execution_count": 12,
   "metadata": {},
   "outputs": [
    {
     "data": {
      "text/plain": [
       "<xarray.Dataset>\n",
       "Dimensions:  (lat: 45, lon: 35, time: 1430)\n",
       "Coordinates:\n",
       "  * time     (time) datetime64[ns] 1900-01-01 1900-02-01 ... 2019-02-01\n",
       "  * lon      (lon) float32 33.625 33.875 34.125 34.375 ... 41.625 41.875 42.125\n",
       "  * lat      (lat) float32 -5.125 -4.875 -4.625 -4.375 ... 5.375 5.625 5.875\n",
       "Data variables:\n",
       "    precip   (time, lat, lon) float32 ..."
      ]
     },
     "execution_count": 12,
     "metadata": {},
     "output_type": "execute_result"
    }
   ],
   "source": [
    "ds = xr.open_dataset(data_dir/args[\"netcdf_precip\"])\n",
    "ds"
   ]
  },
  {
   "cell_type": "code",
   "execution_count": 8,
   "metadata": {},
   "outputs": [],
   "source": [
    "from climate_indices import indices"
   ]
  },
  {
   "cell_type": "code",
   "execution_count": 9,
   "metadata": {},
   "outputs": [
    {
     "data": {
      "text/plain": [
       "CPUDispatcher(<function spi at 0x1c25c64d90>)"
      ]
     },
     "execution_count": 9,
     "metadata": {},
     "output_type": "execute_result"
    }
   ],
   "source": []
  },
  {
   "cell_type": "code",
   "execution_count": null,
   "metadata": {},
   "outputs": [],
   "source": []
  },
  {
   "cell_type": "code",
   "execution_count": null,
   "metadata": {},
   "outputs": [],
   "source": []
  },
  {
   "cell_type": "code",
   "execution_count": null,
   "metadata": {},
   "outputs": [],
   "source": []
  },
  {
   "cell_type": "code",
   "execution_count": null,
   "metadata": {},
   "outputs": [],
   "source": []
  },
  {
   "cell_type": "code",
   "execution_count": null,
   "metadata": {},
   "outputs": [],
   "source": []
  },
  {
   "cell_type": "markdown",
   "metadata": {},
   "source": [
    "# When working with the command line arguments\n",
    "\n",
    "## here are your options\n",
    "\n",
    "```python\n",
    "PARAMS:\n",
    "-------\n",
    "* \"--index\", help=\"Indices to compute\", \n",
    "    * choices=[\"spi\", \"spei\", \"pnp\", \"scaled\", \"pet\", \"palmers\", \"all\"],\n",
    "* \"--periodicity\", help=\"Process input as either monthly or daily values\", \n",
    "    * choices=[compute.Periodicity.monthly, * compute.Periodicity.daily],\n",
    "* \"--scales\", help=\"Timestep scales over which the PNP, SPI, and SPEI values are to be computed\",\n",
    "* \"--calibration_start_year\", help=\"Initial year of the calibration period\",\n",
    "* \"--calibration_end_year\", help=\"Final year of calibration period\", type=int\n",
    "* \"--netcdf_precip\", help=\"Precipitation NetCDF file to be used as input for indices computations\",\n",
    "* \"--var_name_precip\", help=\"Precipitation variable name used in the precipitation NetCDF file\",\n",
    "* \"--netcdf_temp\", help=\"Temperature NetCDF file to be used as input for indices computations\",\n",
    "* \"--var_name_temp\", help=\"Temperature variable name used in the temperature NetCDF file\",\n",
    "* \"--netcdf_pet\", help=\"PET NetCDF file to be used as input for SPEI and/or Palmer computations\",\n",
    "* \"--var_name_pet\", help=\"PET variable name used in the PET NetCDF file\"\n",
    "* \"--netcdf_awc\", help=\"Available water capacity NetCDF file to be used as input for the Palmer computations\",\n",
    "* \"--var_name_awc\", help=\"Available water capacity variable name used in the AWC NetCDF file\",\n",
    "* \"--output_file_base\", help=\"Base output file path and name for the resulting output files\",\n",
    "* \"--multiprocessing\", help=\"Indices to compute\", choices=[\"single\", \"all_but_one\", \"all\"],\n",
    "\n",
    "```\n",
    "\n",
    "## and some [examples](https://climate-indices.readthedocs.io/en/latest/#getting-started)\n",
    "\n",
    "```\n",
    "$ process_climate_indices --index spi  --periodicity daily --netcdf_precip /data/cmorph_lowres_daily_conus_prcp.nc --var_name_precip prcp --output_file_base <out_dir>/cmorph_lowres_daily_conus --scales 30 90 --calibration_start_year 1998 --calibration_end_year 2016 --multiprocessing all\n",
    "\n",
    "```\n",
    "\n",
    "```\n",
    "$ process_climate_indices --index spi --periodicity monthly --netcdf_precip /data/nclimgrid_lowres_prcp.nc --var_name_precip  prcp --output_file_base <out_dir>/nclimgrid_lowres --scales 6 12 --calibration_start_year 1951 --calibration_end_year 2010 --multiprocessing all\n",
    "\n",
    "```"
   ]
  },
  {
   "cell_type": "code",
   "execution_count": null,
   "metadata": {},
   "outputs": [],
   "source": []
  }
 ],
 "metadata": {
  "kernelspec": {
   "display_name": "Python 3",
   "language": "python",
   "name": "python3"
  },
  "language_info": {
   "codemirror_mode": {
    "name": "ipython",
    "version": 3
   },
   "file_extension": ".py",
   "mimetype": "text/x-python",
   "name": "python",
   "nbconvert_exporter": "python",
   "pygments_lexer": "ipython3",
   "version": "3.7.2"
  }
 },
 "nbformat": 4,
 "nbformat_minor": 2
}
