{
 "cells": [
  {
   "cell_type": "code",
   "execution_count": 5,
   "metadata": {},
   "outputs": [],
   "source": [
    "import geopandas as gpd\n",
    "from pathlib import Path\n",
    "import xarray as xr\n",
    "import numpy as np\n",
    "\n",
    "import cdsapi\n",
    "import matplotlib.pyplot as plt\n",
    "import cartopy.crs as crs\n",
    "import xarray as xr\n",
    "import seaborn as sns\n",
    "\n",
    "import os\n",
    "import subprocess\n",
    "from functools import partial\n",
    "from collections import namedtuple\n",
    "from pprint import pprint\n",
    "\n",
    "%matplotlib inline\n",
    "plt.rcParams['figure.figsize'] = 12, 6"
   ]
  },
  {
   "cell_type": "code",
   "execution_count": 2,
   "metadata": {},
   "outputs": [
    {
     "name": "stdout",
     "output_type": "stream",
     "text": [
      "Current Directory:  /Users/tommylees/github/ESoWC_dummy\n"
     ]
    }
   ],
   "source": [
    "# Set working directory as project root\n",
    "if os.getcwd().split('/')[-1] != \"ESoWC_dummy\":\n",
    "    os.chdir('..')\n",
    "    \n",
    "assert os.getcwd().split('/')[-1] == \"ESoWC_dummy\", f\"Working directory should be the root (), currently: {os.getcwd()}\"\n",
    "print(\"Current Directory: \",os.getcwd())"
   ]
  },
  {
   "cell_type": "code",
   "execution_count": 36,
   "metadata": {},
   "outputs": [
    {
     "name": "stdout",
     "output_type": "stream",
     "text": [
      "/Volumes/Lees_Extend/data/ecmwf_sowc\n",
      "['countries_shp',\n",
      " 'countries_shp.zip',\n",
      " 'era5_test.grib',\n",
      " 'ESACCI-LC-L4-LCCS-Map-300m-P1Y-2015-v2.0.7b.nc',\n",
      " 'ESACCI-LC-L4-LCCS-Map-300m-P1Y-2015-v2.0.7b.nc.zip',\n",
      " 'ESACCI-LC-Legend.csv',\n",
      " 'GRUN_v1_GSWP3_WGS84_05_1902_2014.nc',\n",
      " 'kenya_precip_JanJune.grib',\n",
      " 'kenya_rainfall2.nc',\n",
      " 'kenya_rainfall_.nc',\n",
      " 'orography.grib',\n",
      " 'pressure.grib']\n"
     ]
    }
   ],
   "source": [
    "# Set data_dir to external if on tommy's laptop (no space!)\n",
    "if os.getcwd().split('/')[2] == 'tommylees':\n",
    "    data_dir = Path(\"/Volumes/Lees_Extend/data/ecmwf_sowc/\")\n",
    "else:\n",
    "    data_dir = Path('./data')\n",
    "    \n",
    "print(data_dir)\n",
    "pprint([f.as_posix().split('/')[-1] for f in data_dir.glob('*')])"
   ]
  },
  {
   "cell_type": "code",
   "execution_count": 34,
   "metadata": {},
   "outputs": [
    {
     "data": {
      "text/plain": [
       "<xarray.Dataset>\n",
       "Dimensions:  (lat: 45, lon: 35, time: 468)\n",
       "Coordinates:\n",
       "  * lon      (lon) float32 33.75 34.0 34.25 34.5 34.75 ... 41.5 41.75 42.0 42.25\n",
       "  * lat      (lat) float32 6.0 5.75 5.5 5.25 5.0 ... -4.0 -4.25 -4.5 -4.75 -5.0\n",
       "  * time     (time) datetime64[ns] 1980-01-01 1980-02-01 ... 2018-12-01\n",
       "Data variables:\n",
       "    tp       (time, lat, lon) float32 -9.313226e-07 ... 0.009605661\n",
       "Attributes:\n",
       "    Conventions:  CF-1.6\n",
       "    history:      2019-05-07 19:44:54 GMT by grib_to_netcdf-2.10.0: /opt/ecmw..."
      ]
     },
     "execution_count": 34,
     "metadata": {},
     "output_type": "execute_result"
    }
   ],
   "source": [
    "ds = xr.open_dataset(data_dir / 'kenya_rainfall_.nc')\n",
    "# rename longitude->lon / latitude->lat\n",
    "ds = ds.rename({\"longitude\":'lon',\"latitude\":'lat'})\n",
    "\n",
    "# convert to mm\n",
    "ds['tp'] = ds.tp * 1000\n",
    "ds.tp.attrs['units'] = 'mm'\n",
    "ds"
   ]
  },
  {
   "cell_type": "code",
   "execution_count": 35,
   "metadata": {},
   "outputs": [],
   "source": [
    "# save the data\n",
    "ds.to_netcdf(data_dir/'kenya_rainfall2.nc')"
   ]
  },
  {
   "cell_type": "code",
   "execution_count": 37,
   "metadata": {},
   "outputs": [
    {
     "data": {
      "text/plain": [
       "<xarray.Dataset>\n",
       "Dimensions:  (lat: 45, lon: 35, time: 468)\n",
       "Coordinates:\n",
       "  * lon      (lon) float32 33.75 34.0 34.25 34.5 34.75 ... 41.5 41.75 42.0 42.25\n",
       "  * lat      (lat) float32 6.0 5.75 5.5 5.25 5.0 ... -4.0 -4.25 -4.5 -4.75 -5.0\n",
       "  * time     (time) datetime64[ns] 1980-01-01 1980-02-01 ... 2018-12-01\n",
       "Data variables:\n",
       "    tp       (time, lat, lon) float32 -9.313226e-07 ... 0.009605661\n",
       "Attributes:\n",
       "    Conventions:  CF-1.6\n",
       "    history:      2019-05-07 19:44:54 GMT by grib_to_netcdf-2.10.0: /opt/ecmw..."
      ]
     },
     "execution_count": 37,
     "metadata": {},
     "output_type": "execute_result"
    }
   ],
   "source": [
    "ds"
   ]
  },
  {
   "cell_type": "code",
   "execution_count": null,
   "metadata": {},
   "outputs": [],
   "source": []
  }
 ],
 "metadata": {
  "kernelspec": {
   "display_name": "Python 3",
   "language": "python",
   "name": "python3"
  },
  "language_info": {
   "codemirror_mode": {
    "name": "ipython",
    "version": 3
   },
   "file_extension": ".py",
   "mimetype": "text/x-python",
   "name": "python",
   "nbconvert_exporter": "python",
   "pygments_lexer": "ipython3",
   "version": "3.7.2"
  }
 },
 "nbformat": 4,
 "nbformat_minor": 2
}
