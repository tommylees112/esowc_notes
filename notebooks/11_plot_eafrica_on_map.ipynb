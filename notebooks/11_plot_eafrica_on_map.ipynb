{
 "cells": [
  {
   "cell_type": "markdown",
   "metadata": {},
   "source": [
    "# Plot EAfrica on map\n",
    "\n",
    "[Plotting different colors for different ](https://nbviewer.jupyter.org/gist/jorisvandenbossche/57d392c085901eb4981054402b37b6b1)\n",
    "\n",
    "[Github issue here](https://github.com/geopandas/geopandas/issues/387)"
   ]
  },
  {
   "cell_type": "code",
   "execution_count": 1,
   "metadata": {},
   "outputs": [],
   "source": [
    "import geopandas as gpd\n",
    "from pathlib import Path\n",
    "import xarray as xr\n",
    "import numpy as np\n",
    "import pandas as pd\n",
    "\n",
    "import cdsapi\n",
    "import matplotlib.pyplot as plt\n",
    "import cartopy.crs as crs\n",
    "import xarray as xr\n",
    "import seaborn as sns\n",
    "\n",
    "import os\n",
    "import subprocess\n",
    "from functools import partial\n",
    "from collections import namedtuple\n",
    "from pprint import pprint\n",
    "\n",
    "%matplotlib inline\n",
    "plt.rcParams['figure.figsize'] = 12, 6"
   ]
  },
  {
   "cell_type": "code",
   "execution_count": 2,
   "metadata": {},
   "outputs": [
    {
     "name": "stdout",
     "output_type": "stream",
     "text": [
      "Current Directory:  /Users/tommylees/github/ESoWC_dummy\n"
     ]
    }
   ],
   "source": [
    "# Set working directory as project root\n",
    "if os.getcwd().split('/')[-1] != \"ESoWC_dummy\":\n",
    "    os.chdir('..')\n",
    "    \n",
    "assert os.getcwd().split('/')[-1] == \"ESoWC_dummy\", f\"Working directory should be the root (), currently: {os.getcwd()}\"\n",
    "print(\"Current Directory: \",os.getcwd())"
   ]
  },
  {
   "cell_type": "code",
   "execution_count": 4,
   "metadata": {},
   "outputs": [
    {
     "name": "stdout",
     "output_type": "stream",
     "text": [
      "/Volumes/Lees_Extend/data/ecmwf_sowc\n",
      "['chirps_kenya.nc',\n",
      " 'chirps_kenya2.nc',\n",
      " 'countries_shp',\n",
      " 'countries_shp.zip',\n",
      " 'era5_test.grib',\n",
      " 'ESACCI-LC-L4-LCCS-Map-300m-P1Y-2015-v2.0.7b.nc',\n",
      " 'ESACCI-LC-L4-LCCS-Map-300m-P1Y-2015-v2.0.7b.nc.zip',\n",
      " 'ESACCI-LC-Legend.csv',\n",
      " 'GRUN_v1_GSWP3_WGS84_05_1902_2014.nc',\n",
      " 'kenya_precip_JanJune.grib',\n",
      " 'kenya_rainfall2.nc',\n",
      " 'kenya_rainfall_.nc',\n",
      " 'orography.grib',\n",
      " 'pressure.grib']\n"
     ]
    }
   ],
   "source": [
    "# Set data_dir to external if on tommy's laptop (no space!)\n",
    "if os.getcwd().split('/')[2] == 'tommylees':\n",
    "    data_dir = Path(\"/Volumes/Lees_Extend/data/ecmwf_sowc/\")\n",
    "else:\n",
    "    data_dir = Path('./data')\n",
    "    \n",
    "print(data_dir)\n",
    "pprint([f.as_posix().split('/')[-1] for f in data_dir.glob('*')])"
   ]
  },
  {
   "cell_type": "code",
   "execution_count": 5,
   "metadata": {},
   "outputs": [
    {
     "name": "stdout",
     "output_type": "stream",
     "text": [
      "['ne_50m_admin_0_countries.cpg',\n",
      " 'ne_50m_admin_0_countries.dbf',\n",
      " 'ne_50m_admin_0_countries.prj',\n",
      " 'ne_50m_admin_0_countries.README.html',\n",
      " 'ne_50m_admin_0_countries.shp',\n",
      " 'ne_50m_admin_0_countries.shx',\n",
      " 'ne_50m_admin_0_countries.VERSION.txt']\n"
     ]
    }
   ],
   "source": [
    "pprint([f.as_posix().split('/')[-1] for f in data_dir.glob('*/*')])"
   ]
  },
  {
   "cell_type": "code",
   "execution_count": 7,
   "metadata": {},
   "outputs": [
    {
     "data": {
      "text/plain": [
       "Index(['featurecla', 'scalerank', 'LABELRANK', 'SOVEREIGNT', 'SOV_A3',\n",
       "       'ADM0_DIF', 'LEVEL', 'TYPE', 'ADMIN', 'ADM0_A3', 'GEOU_DIF', 'GEOUNIT',\n",
       "       'GU_A3', 'SU_DIF', 'SUBUNIT', 'SU_A3', 'BRK_DIFF', 'NAME', 'NAME_LONG',\n",
       "       'BRK_A3', 'BRK_NAME', 'BRK_GROUP', 'ABBREV', 'POSTAL', 'FORMAL_EN',\n",
       "       'FORMAL_FR', 'NAME_CIAWF', 'NOTE_ADM0', 'NOTE_BRK', 'NAME_SORT',\n",
       "       'NAME_ALT', 'MAPCOLOR7', 'MAPCOLOR8', 'MAPCOLOR9', 'MAPCOLOR13',\n",
       "       'POP_EST', 'POP_RANK', 'GDP_MD_EST', 'POP_YEAR', 'LASTCENSUS',\n",
       "       'GDP_YEAR', 'ECONOMY', 'INCOME_GRP', 'WIKIPEDIA', 'FIPS_10_', 'ISO_A2',\n",
       "       'ISO_A3', 'ISO_A3_EH', 'ISO_N3', 'UN_A3', 'WB_A2', 'WB_A3', 'WOE_ID',\n",
       "       'WOE_ID_EH', 'WOE_NOTE', 'ADM0_A3_IS', 'ADM0_A3_US', 'ADM0_A3_UN',\n",
       "       'ADM0_A3_WB', 'CONTINENT', 'REGION_UN', 'SUBREGION', 'REGION_WB',\n",
       "       'NAME_LEN', 'LONG_LEN', 'ABBREV_LEN', 'TINY', 'HOMEPART', 'MIN_ZOOM',\n",
       "       'MIN_LABEL', 'MAX_LABEL', 'NE_ID', 'WIKIDATAID', 'NAME_AR', 'NAME_BN',\n",
       "       'NAME_DE', 'NAME_EN', 'NAME_ES', 'NAME_FR', 'NAME_EL', 'NAME_HI',\n",
       "       'NAME_HU', 'NAME_ID', 'NAME_IT', 'NAME_JA', 'NAME_KO', 'NAME_NL',\n",
       "       'NAME_PL', 'NAME_PT', 'NAME_RU', 'NAME_SV', 'NAME_TR', 'NAME_VI',\n",
       "       'NAME_ZH', 'geometry'],\n",
       "      dtype='object')"
      ]
     },
     "execution_count": 7,
     "metadata": {},
     "output_type": "execute_result"
    }
   ],
   "source": [
    "countries = gpd.read_file(data_dir/\"countries_shp\"/\"ne_50m_admin_0_countries.shp\")\n",
    "countries.columns"
   ]
  },
  {
   "cell_type": "code",
   "execution_count": 18,
   "metadata": {},
   "outputs": [
    {
     "data": {
      "text/plain": [
       "0                              Zimbabwe\n",
       "1                                Zambia\n",
       "19                       United Kingdom\n",
       "34                               Uganda\n",
       "37                              Tunisia\n",
       "40                                 Togo\n",
       "43          United Republic of Tanzania\n",
       "49                             eSwatini\n",
       "51                          South Sudan\n",
       "52                                Sudan\n",
       "56                         South Africa\n",
       "57                              Somalia\n",
       "58                           Somaliland\n",
       "63                         Sierra Leone\n",
       "64                           Seychelles\n",
       "66                              Senegal\n",
       "68              SÃ£o TomÃ© and Principe\n",
       "74                               Rwanda\n",
       "90                              Nigeria\n",
       "91                                Niger\n",
       "101                             Namibia\n",
       "102                          Mozambique\n",
       "103                             Morocco\n",
       "104                      Western Sahara\n",
       "110                           Mauritius\n",
       "111                          Mauritania\n",
       "113                                Mali\n",
       "116                              Malawi\n",
       "117                          Madagascar\n",
       "122                               Libya\n",
       "123                             Liberia\n",
       "124                             Lesotho\n",
       "132                               Kenya\n",
       "150                       Guinea-Bissau\n",
       "151                              Guinea\n",
       "155                               Ghana\n",
       "158                              Gambia\n",
       "159                               Gabon\n",
       "171                            Ethiopia\n",
       "173                             Eritrea\n",
       "174                   Equatorial Guinea\n",
       "176                               Egypt\n",
       "180                            Djibouti\n",
       "189                         Ivory Coast\n",
       "191    Democratic Republic of the Congo\n",
       "192               Republic of the Congo\n",
       "193                             Comoros\n",
       "199                                Chad\n",
       "200            Central African Republic\n",
       "201                          Cabo Verde\n",
       "203                            Cameroon\n",
       "206                             Burundi\n",
       "207                        Burkina Faso\n",
       "211                            Botswana\n",
       "215                               Benin\n",
       "233                              Angola\n",
       "235                             Algeria\n",
       "Name: SOVEREIGNT, dtype: object"
      ]
     },
     "execution_count": 18,
     "metadata": {},
     "output_type": "execute_result"
    }
   ],
   "source": [
    "countries.loc[countries.REGION_UN == 'Africa'].plot()"
   ]
  },
  {
   "cell_type": "code",
   "execution_count": 20,
   "metadata": {},
   "outputs": [
    {
     "data": {
      "text/plain": [
       "array(['Burundi', 'Comoros', 'Djibouti', 'Eritrea', 'Ethiopia', 'Kenya',\n",
       "       'Madagascar', 'Malawi', 'Mauritius', 'Mozambique', 'Rwanda',\n",
       "       'Seychelles', 'Somalia', 'Somaliland', 'South Sudan', 'Uganda',\n",
       "       'United Republic of Tanzania', 'Zambia', 'Zimbabwe'], dtype=object)"
      ]
     },
     "execution_count": 20,
     "metadata": {},
     "output_type": "execute_result"
    }
   ],
   "source": [
    "np.unique(countries.loc[countries.SUBREGION == 'Eastern Africa'].SOVEREIGNT)"
   ]
  },
  {
   "cell_type": "code",
   "execution_count": 28,
   "metadata": {},
   "outputs": [],
   "source": [
    "e_africa = np.array(['Burundi', 'Djibouti', 'Eritrea', 'Ethiopia', 'Kenya','Rwanda', 'Somalia', 'Somaliland', 'South Sudan', 'Sudan', 'Uganda','United Republic of Tanzania'])\n",
    "# countries.loc[countries.SOVEREIGNT]\n"
   ]
  },
  {
   "cell_type": "code",
   "execution_count": null,
   "metadata": {},
   "outputs": [],
   "source": []
  },
  {
   "cell_type": "code",
   "execution_count": 52,
   "metadata": {},
   "outputs": [
    {
     "data": {
      "image/png": "[encoded data removed]",
      "text/plain": [
       "<Figure size 864x576 with 1 Axes>"
      ]
     },
     "metadata": {
      "needs_background": "light"
     },
     "output_type": "display_data"
    }
   ],
   "source": [
    "fig,ax= plt.subplots(figsize=(12,8))\n",
    "countries[countries.REGION_UN == 'Africa'].plot(color='grey', ax=ax)\n",
    "countries[np.isin(countries.SOVEREIGNT, e_africa)].plot(color='#01748b', ax=ax)\n",
    "countries[np.isin(countries.SOVEREIGNT, ['Kenya'])].plot(color='#2cb7b0', ax=ax)\n",
    "fig.savefig('/Users/tommylees/Downloads/africa.svg')"
   ]
  },
  {
   "cell_type": "code",
   "execution_count": null,
   "metadata": {},
   "outputs": [],
   "source": [
    "# https://github.com/geopandas/geopandas/issues/387\n",
    "# for poly in lsoas['geometry']:\n",
    "#     gpd.plotting.plot_multipolygon(ax, poly, linewidth=0.1, edgecolor='grey')\n",
    "# plt.show()"
   ]
  }
 ],
 "metadata": {
  "kernelspec": {
   "display_name": "Python 3",
   "language": "python",
   "name": "python3"
  },
  "language_info": {
   "codemirror_mode": {
    "name": "ipython",
    "version": 3
   },
   "file_extension": ".py",
   "mimetype": "text/x-python",
   "name": "python",
   "nbconvert_exporter": "python",
   "pygments_lexer": "ipython3",
   "version": "3.7.2"
  }
 },
 "nbformat": 4,
 "nbformat_minor": 2
}
